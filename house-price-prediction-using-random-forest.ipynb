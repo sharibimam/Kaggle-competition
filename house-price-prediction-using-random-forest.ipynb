{
 "cells": [
  {
   "cell_type": "code",
   "execution_count": 1,
   "metadata": {
    "execution": {
     "iopub.execute_input": "2021-02-13T04:34:36.481491Z",
     "iopub.status.busy": "2021-02-13T04:34:36.480605Z",
     "iopub.status.idle": "2021-02-13T04:34:37.397248Z",
     "shell.execute_reply": "2021-02-13T04:34:37.396406Z"
    },
    "papermill": {
     "duration": 0.96004,
     "end_time": "2021-02-13T04:34:37.397461",
     "exception": false,
     "start_time": "2021-02-13T04:34:36.437421",
     "status": "completed"
    },
    "tags": []
   },
   "outputs": [],
   "source": [
    "import pandas as pd\n",
    "import numpy as np\n",
    "import matplotlib.pyplot as plt\n",
    "import seaborn as sns"
   ]
  },
  {
   "cell_type": "code",
   "execution_count": 2,
   "metadata": {
    "execution": {
     "iopub.execute_input": "2021-02-13T04:34:37.475090Z",
     "iopub.status.busy": "2021-02-13T04:34:37.474395Z",
     "iopub.status.idle": "2021-02-13T04:34:37.522154Z",
     "shell.execute_reply": "2021-02-13T04:34:37.521480Z"
    },
    "papermill": {
     "duration": 0.086387,
     "end_time": "2021-02-13T04:34:37.522310",
     "exception": false,
     "start_time": "2021-02-13T04:34:37.435923",
     "status": "completed"
    },
    "tags": []
   },
   "outputs": [],
   "source": [
    "data = pd.read_csv(\"/kaggle/input/house-prices-advanced-regression-techniques/train.csv\")"
   ]
  },
  {
   "cell_type": "code",
   "execution_count": 3,
   "metadata": {
    "execution": {
     "iopub.execute_input": "2021-02-13T04:34:37.601020Z",
     "iopub.status.busy": "2021-02-13T04:34:37.600362Z",
     "iopub.status.idle": "2021-02-13T04:34:37.603400Z",
     "shell.execute_reply": "2021-02-13T04:34:37.603881Z"
    },
    "papermill": {
     "duration": 0.046133,
     "end_time": "2021-02-13T04:34:37.604045",
     "exception": false,
     "start_time": "2021-02-13T04:34:37.557912",
     "status": "completed"
    },
    "tags": []
   },
   "outputs": [
    {
     "data": {
      "text/plain": [
       "(1460, 81)"
      ]
     },
     "execution_count": 3,
     "metadata": {},
     "output_type": "execute_result"
    }
   ],
   "source": [
    "data.shape"
   ]
  },
  {
   "cell_type": "code",
   "execution_count": 4,
   "metadata": {
    "execution": {
     "iopub.execute_input": "2021-02-13T04:34:37.679799Z",
     "iopub.status.busy": "2021-02-13T04:34:37.679051Z",
     "iopub.status.idle": "2021-02-13T04:34:37.685938Z",
     "shell.execute_reply": "2021-02-13T04:34:37.686464Z"
    },
    "papermill": {
     "duration": 0.046417,
     "end_time": "2021-02-13T04:34:37.686663",
     "exception": false,
     "start_time": "2021-02-13T04:34:37.640246",
     "status": "completed"
    },
    "tags": []
   },
   "outputs": [
    {
     "data": {
      "text/plain": [
       "Index(['Id', 'MSSubClass', 'MSZoning', 'LotFrontage', 'LotArea', 'Street',\n",
       "       'Alley', 'LotShape', 'LandContour', 'Utilities', 'LotConfig',\n",
       "       'LandSlope', 'Neighborhood', 'Condition1', 'Condition2', 'BldgType',\n",
       "       'HouseStyle', 'OverallQual', 'OverallCond', 'YearBuilt', 'YearRemodAdd',\n",
       "       'RoofStyle', 'RoofMatl', 'Exterior1st', 'Exterior2nd', 'MasVnrType',\n",
       "       'MasVnrArea', 'ExterQual', 'ExterCond', 'Foundation', 'BsmtQual',\n",
       "       'BsmtCond', 'BsmtExposure', 'BsmtFinType1', 'BsmtFinSF1',\n",
       "       'BsmtFinType2', 'BsmtFinSF2', 'BsmtUnfSF', 'TotalBsmtSF', 'Heating',\n",
       "       'HeatingQC', 'CentralAir', 'Electrical', '1stFlrSF', '2ndFlrSF',\n",
       "       'LowQualFinSF', 'GrLivArea', 'BsmtFullBath', 'BsmtHalfBath', 'FullBath',\n",
       "       'HalfBath', 'BedroomAbvGr', 'KitchenAbvGr', 'KitchenQual',\n",
       "       'TotRmsAbvGrd', 'Functional', 'Fireplaces', 'FireplaceQu', 'GarageType',\n",
       "       'GarageYrBlt', 'GarageFinish', 'GarageCars', 'GarageArea', 'GarageQual',\n",
       "       'GarageCond', 'PavedDrive', 'WoodDeckSF', 'OpenPorchSF',\n",
       "       'EnclosedPorch', '3SsnPorch', 'ScreenPorch', 'PoolArea', 'PoolQC',\n",
       "       'Fence', 'MiscFeature', 'MiscVal', 'MoSold', 'YrSold', 'SaleType',\n",
       "       'SaleCondition', 'SalePrice'],\n",
       "      dtype='object')"
      ]
     },
     "execution_count": 4,
     "metadata": {},
     "output_type": "execute_result"
    }
   ],
   "source": [
    "data.columns"
   ]
  },
  {
   "cell_type": "code",
   "execution_count": 5,
   "metadata": {
    "execution": {
     "iopub.execute_input": "2021-02-13T04:34:37.765944Z",
     "iopub.status.busy": "2021-02-13T04:34:37.765169Z",
     "iopub.status.idle": "2021-02-13T04:34:37.789301Z",
     "shell.execute_reply": "2021-02-13T04:34:37.788781Z"
    },
    "papermill": {
     "duration": 0.066239,
     "end_time": "2021-02-13T04:34:37.789449",
     "exception": false,
     "start_time": "2021-02-13T04:34:37.723210",
     "status": "completed"
    },
    "tags": []
   },
   "outputs": [
    {
     "data": {
      "text/plain": [
       "Id               False\n",
       "MSSubClass       False\n",
       "MSZoning         False\n",
       "LotFrontage       True\n",
       "LotArea          False\n",
       "                 ...  \n",
       "MoSold           False\n",
       "YrSold           False\n",
       "SaleType         False\n",
       "SaleCondition    False\n",
       "SalePrice        False\n",
       "Length: 81, dtype: bool"
      ]
     },
     "execution_count": 5,
     "metadata": {},
     "output_type": "execute_result"
    }
   ],
   "source": [
    "data.isnull().any()"
   ]
  },
  {
   "cell_type": "code",
   "execution_count": 6,
   "metadata": {
    "execution": {
     "iopub.execute_input": "2021-02-13T04:34:37.871521Z",
     "iopub.status.busy": "2021-02-13T04:34:37.870784Z",
     "iopub.status.idle": "2021-02-13T04:34:37.885893Z",
     "shell.execute_reply": "2021-02-13T04:34:37.885293Z"
    },
    "papermill": {
     "duration": 0.059405,
     "end_time": "2021-02-13T04:34:37.886035",
     "exception": false,
     "start_time": "2021-02-13T04:34:37.826630",
     "status": "completed"
    },
    "tags": []
   },
   "outputs": [
    {
     "data": {
      "text/plain": [
       "Id                 0\n",
       "MSSubClass         0\n",
       "MSZoning           0\n",
       "LotFrontage      259\n",
       "LotArea            0\n",
       "                ... \n",
       "MoSold             0\n",
       "YrSold             0\n",
       "SaleType           0\n",
       "SaleCondition      0\n",
       "SalePrice          0\n",
       "Length: 81, dtype: int64"
      ]
     },
     "execution_count": 6,
     "metadata": {},
     "output_type": "execute_result"
    }
   ],
   "source": [
    "data.isnull().sum()"
   ]
  },
  {
   "cell_type": "code",
   "execution_count": 7,
   "metadata": {
    "execution": {
     "iopub.execute_input": "2021-02-13T04:34:37.970593Z",
     "iopub.status.busy": "2021-02-13T04:34:37.969596Z",
     "iopub.status.idle": "2021-02-13T04:34:38.001401Z",
     "shell.execute_reply": "2021-02-13T04:34:38.002216Z"
    },
    "papermill": {
     "duration": 0.079026,
     "end_time": "2021-02-13T04:34:38.002458",
     "exception": false,
     "start_time": "2021-02-13T04:34:37.923432",
     "status": "completed"
    },
    "tags": []
   },
   "outputs": [
    {
     "name": "stdout",
     "output_type": "stream",
     "text": [
      "<class 'pandas.core.frame.DataFrame'>\n",
      "RangeIndex: 1460 entries, 0 to 1459\n",
      "Data columns (total 81 columns):\n",
      " #   Column         Non-Null Count  Dtype  \n",
      "---  ------         --------------  -----  \n",
      " 0   Id             1460 non-null   int64  \n",
      " 1   MSSubClass     1460 non-null   int64  \n",
      " 2   MSZoning       1460 non-null   object \n",
      " 3   LotFrontage    1201 non-null   float64\n",
      " 4   LotArea        1460 non-null   int64  \n",
      " 5   Street         1460 non-null   object \n",
      " 6   Alley          91 non-null     object \n",
      " 7   LotShape       1460 non-null   object \n",
      " 8   LandContour    1460 non-null   object \n",
      " 9   Utilities      1460 non-null   object \n",
      " 10  LotConfig      1460 non-null   object \n",
      " 11  LandSlope      1460 non-null   object \n",
      " 12  Neighborhood   1460 non-null   object \n",
      " 13  Condition1     1460 non-null   object \n",
      " 14  Condition2     1460 non-null   object \n",
      " 15  BldgType       1460 non-null   object \n",
      " 16  HouseStyle     1460 non-null   object \n",
      " 17  OverallQual    1460 non-null   int64  \n",
      " 18  OverallCond    1460 non-null   int64  \n",
      " 19  YearBuilt      1460 non-null   int64  \n",
      " 20  YearRemodAdd   1460 non-null   int64  \n",
      " 21  RoofStyle      1460 non-null   object \n",
      " 22  RoofMatl       1460 non-null   object \n",
      " 23  Exterior1st    1460 non-null   object \n",
      " 24  Exterior2nd    1460 non-null   object \n",
      " 25  MasVnrType     1452 non-null   object \n",
      " 26  MasVnrArea     1452 non-null   float64\n",
      " 27  ExterQual      1460 non-null   object \n",
      " 28  ExterCond      1460 non-null   object \n",
      " 29  Foundation     1460 non-null   object \n",
      " 30  BsmtQual       1423 non-null   object \n",
      " 31  BsmtCond       1423 non-null   object \n",
      " 32  BsmtExposure   1422 non-null   object \n",
      " 33  BsmtFinType1   1423 non-null   object \n",
      " 34  BsmtFinSF1     1460 non-null   int64  \n",
      " 35  BsmtFinType2   1422 non-null   object \n",
      " 36  BsmtFinSF2     1460 non-null   int64  \n",
      " 37  BsmtUnfSF      1460 non-null   int64  \n",
      " 38  TotalBsmtSF    1460 non-null   int64  \n",
      " 39  Heating        1460 non-null   object \n",
      " 40  HeatingQC      1460 non-null   object \n",
      " 41  CentralAir     1460 non-null   object \n",
      " 42  Electrical     1459 non-null   object \n",
      " 43  1stFlrSF       1460 non-null   int64  \n",
      " 44  2ndFlrSF       1460 non-null   int64  \n",
      " 45  LowQualFinSF   1460 non-null   int64  \n",
      " 46  GrLivArea      1460 non-null   int64  \n",
      " 47  BsmtFullBath   1460 non-null   int64  \n",
      " 48  BsmtHalfBath   1460 non-null   int64  \n",
      " 49  FullBath       1460 non-null   int64  \n",
      " 50  HalfBath       1460 non-null   int64  \n",
      " 51  BedroomAbvGr   1460 non-null   int64  \n",
      " 52  KitchenAbvGr   1460 non-null   int64  \n",
      " 53  KitchenQual    1460 non-null   object \n",
      " 54  TotRmsAbvGrd   1460 non-null   int64  \n",
      " 55  Functional     1460 non-null   object \n",
      " 56  Fireplaces     1460 non-null   int64  \n",
      " 57  FireplaceQu    770 non-null    object \n",
      " 58  GarageType     1379 non-null   object \n",
      " 59  GarageYrBlt    1379 non-null   float64\n",
      " 60  GarageFinish   1379 non-null   object \n",
      " 61  GarageCars     1460 non-null   int64  \n",
      " 62  GarageArea     1460 non-null   int64  \n",
      " 63  GarageQual     1379 non-null   object \n",
      " 64  GarageCond     1379 non-null   object \n",
      " 65  PavedDrive     1460 non-null   object \n",
      " 66  WoodDeckSF     1460 non-null   int64  \n",
      " 67  OpenPorchSF    1460 non-null   int64  \n",
      " 68  EnclosedPorch  1460 non-null   int64  \n",
      " 69  3SsnPorch      1460 non-null   int64  \n",
      " 70  ScreenPorch    1460 non-null   int64  \n",
      " 71  PoolArea       1460 non-null   int64  \n",
      " 72  PoolQC         7 non-null      object \n",
      " 73  Fence          281 non-null    object \n",
      " 74  MiscFeature    54 non-null     object \n",
      " 75  MiscVal        1460 non-null   int64  \n",
      " 76  MoSold         1460 non-null   int64  \n",
      " 77  YrSold         1460 non-null   int64  \n",
      " 78  SaleType       1460 non-null   object \n",
      " 79  SaleCondition  1460 non-null   object \n",
      " 80  SalePrice      1460 non-null   int64  \n",
      "dtypes: float64(3), int64(35), object(43)\n",
      "memory usage: 924.0+ KB\n"
     ]
    }
   ],
   "source": [
    "data.info()"
   ]
  },
  {
   "cell_type": "code",
   "execution_count": 8,
   "metadata": {
    "execution": {
     "iopub.execute_input": "2021-02-13T04:34:38.083063Z",
     "iopub.status.busy": "2021-02-13T04:34:38.082388Z",
     "iopub.status.idle": "2021-02-13T04:34:38.090820Z",
     "shell.execute_reply": "2021-02-13T04:34:38.090145Z"
    },
    "papermill": {
     "duration": 0.049128,
     "end_time": "2021-02-13T04:34:38.090962",
     "exception": false,
     "start_time": "2021-02-13T04:34:38.041834",
     "status": "completed"
    },
    "tags": []
   },
   "outputs": [
    {
     "data": {
      "text/plain": [
       "RL         1151\n",
       "RM          218\n",
       "FV           65\n",
       "RH           16\n",
       "C (all)      10\n",
       "Name: MSZoning, dtype: int64"
      ]
     },
     "execution_count": 8,
     "metadata": {},
     "output_type": "execute_result"
    }
   ],
   "source": [
    "data['MSZoning'].value_counts()"
   ]
  },
  {
   "cell_type": "code",
   "execution_count": 9,
   "metadata": {
    "execution": {
     "iopub.execute_input": "2021-02-13T04:34:38.171915Z",
     "iopub.status.busy": "2021-02-13T04:34:38.171282Z",
     "iopub.status.idle": "2021-02-13T04:34:38.699682Z",
     "shell.execute_reply": "2021-02-13T04:34:38.699045Z"
    },
    "papermill": {
     "duration": 0.570096,
     "end_time": "2021-02-13T04:34:38.699890",
     "exception": false,
     "start_time": "2021-02-13T04:34:38.129794",
     "status": "completed"
    },
    "tags": []
   },
   "outputs": [
    {
     "data": {
      "text/plain": [
       "<AxesSubplot:>"
      ]
     },
     "execution_count": 9,
     "metadata": {},
     "output_type": "execute_result"
    },
    {
     "data": {
      "image/png": "[encoded data removed]",
      "text/plain": [
       "<Figure size 432x288 with 1 Axes>"
      ]
     },
     "metadata": {
      "needs_background": "light"
     },
     "output_type": "display_data"
    }
   ],
   "source": [
    "sns.heatmap(data.isnull(),yticklabels=False,cbar=False)"
   ]
  },
  {
   "cell_type": "code",
   "execution_count": 10,
   "metadata": {
    "execution": {
     "iopub.execute_input": "2021-02-13T04:34:38.790984Z",
     "iopub.status.busy": "2021-02-13T04:34:38.789961Z",
     "iopub.status.idle": "2021-02-13T04:34:38.820966Z",
     "shell.execute_reply": "2021-02-13T04:34:38.820444Z"
    },
    "papermill": {
     "duration": 0.080595,
     "end_time": "2021-02-13T04:34:38.821108",
     "exception": false,
     "start_time": "2021-02-13T04:34:38.740513",
     "status": "completed"
    },
    "tags": []
   },
   "outputs": [
    {
     "data": {
      "text/html": [
       "<div>\n",
       "<style scoped>\n",
       "    .dataframe tbody tr th:only-of-type {\n",
       "        vertical-align: middle;\n",
       "    }\n",
       "\n",
       "    .dataframe tbody tr th {\n",
       "        vertical-align: top;\n",
       "    }\n",
       "\n",
       "    .dataframe thead th {\n",
       "        text-align: right;\n",
       "    }\n",
       "</style>\n",
       "<table border=\"1\" class=\"dataframe\">\n",
       "  <thead>\n",
       "    <tr style=\"text-align: right;\">\n",
       "      <th></th>\n",
       "      <th>Id</th>\n",
       "      <th>MSSubClass</th>\n",
       "      <th>MSZoning</th>\n",
       "      <th>LotFrontage</th>\n",
       "      <th>LotArea</th>\n",
       "      <th>Street</th>\n",
       "      <th>Alley</th>\n",
       "      <th>LotShape</th>\n",
       "      <th>LandContour</th>\n",
       "      <th>Utilities</th>\n",
       "      <th>...</th>\n",
       "      <th>PoolArea</th>\n",
       "      <th>PoolQC</th>\n",
       "      <th>Fence</th>\n",
       "      <th>MiscFeature</th>\n",
       "      <th>MiscVal</th>\n",
       "      <th>MoSold</th>\n",
       "      <th>YrSold</th>\n",
       "      <th>SaleType</th>\n",
       "      <th>SaleCondition</th>\n",
       "      <th>SalePrice</th>\n",
       "    </tr>\n",
       "  </thead>\n",
       "  <tbody>\n",
       "    <tr>\n",
       "      <th>0</th>\n",
       "      <td>1</td>\n",
       "      <td>60</td>\n",
       "      <td>RL</td>\n",
       "      <td>65.0</td>\n",
       "      <td>8450</td>\n",
       "      <td>Pave</td>\n",
       "      <td>NaN</td>\n",
       "      <td>Reg</td>\n",
       "      <td>Lvl</td>\n",
       "      <td>AllPub</td>\n",
       "      <td>...</td>\n",
       "      <td>0</td>\n",
       "      <td>NaN</td>\n",
       "      <td>NaN</td>\n",
       "      <td>NaN</td>\n",
       "      <td>0</td>\n",
       "      <td>2</td>\n",
       "      <td>2008</td>\n",
       "      <td>WD</td>\n",
       "      <td>Normal</td>\n",
       "      <td>208500</td>\n",
       "    </tr>\n",
       "    <tr>\n",
       "      <th>1</th>\n",
       "      <td>2</td>\n",
       "      <td>20</td>\n",
       "      <td>RL</td>\n",
       "      <td>80.0</td>\n",
       "      <td>9600</td>\n",
       "      <td>Pave</td>\n",
       "      <td>NaN</td>\n",
       "      <td>Reg</td>\n",
       "      <td>Lvl</td>\n",
       "      <td>AllPub</td>\n",
       "      <td>...</td>\n",
       "      <td>0</td>\n",
       "      <td>NaN</td>\n",
       "      <td>NaN</td>\n",
       "      <td>NaN</td>\n",
       "      <td>0</td>\n",
       "      <td>5</td>\n",
       "      <td>2007</td>\n",
       "      <td>WD</td>\n",
       "      <td>Normal</td>\n",
       "      <td>181500</td>\n",
       "    </tr>\n",
       "    <tr>\n",
       "      <th>2</th>\n",
       "      <td>3</td>\n",
       "      <td>60</td>\n",
       "      <td>RL</td>\n",
       "      <td>68.0</td>\n",
       "      <td>11250</td>\n",
       "      <td>Pave</td>\n",
       "      <td>NaN</td>\n",
       "      <td>IR1</td>\n",
       "      <td>Lvl</td>\n",
       "      <td>AllPub</td>\n",
       "      <td>...</td>\n",
       "      <td>0</td>\n",
       "      <td>NaN</td>\n",
       "      <td>NaN</td>\n",
       "      <td>NaN</td>\n",
       "      <td>0</td>\n",
       "      <td>9</td>\n",
       "      <td>2008</td>\n",
       "      <td>WD</td>\n",
       "      <td>Normal</td>\n",
       "      <td>223500</td>\n",
       "    </tr>\n",
       "    <tr>\n",
       "      <th>3</th>\n",
       "      <td>4</td>\n",
       "      <td>70</td>\n",
       "      <td>RL</td>\n",
       "      <td>60.0</td>\n",
       "      <td>9550</td>\n",
       "      <td>Pave</td>\n",
       "      <td>NaN</td>\n",
       "      <td>IR1</td>\n",
       "      <td>Lvl</td>\n",
       "      <td>AllPub</td>\n",
       "      <td>...</td>\n",
       "      <td>0</td>\n",
       "      <td>NaN</td>\n",
       "      <td>NaN</td>\n",
       "      <td>NaN</td>\n",
       "      <td>0</td>\n",
       "      <td>2</td>\n",
       "      <td>2006</td>\n",
       "      <td>WD</td>\n",
       "      <td>Abnorml</td>\n",
       "      <td>140000</td>\n",
       "    </tr>\n",
       "    <tr>\n",
       "      <th>4</th>\n",
       "      <td>5</td>\n",
       "      <td>60</td>\n",
       "      <td>RL</td>\n",
       "      <td>84.0</td>\n",
       "      <td>14260</td>\n",
       "      <td>Pave</td>\n",
       "      <td>NaN</td>\n",
       "      <td>IR1</td>\n",
       "      <td>Lvl</td>\n",
       "      <td>AllPub</td>\n",
       "      <td>...</td>\n",
       "      <td>0</td>\n",
       "      <td>NaN</td>\n",
       "      <td>NaN</td>\n",
       "      <td>NaN</td>\n",
       "      <td>0</td>\n",
       "      <td>12</td>\n",
       "      <td>2008</td>\n",
       "      <td>WD</td>\n",
       "      <td>Normal</td>\n",
       "      <td>250000</td>\n",
       "    </tr>\n",
       "  </tbody>\n",
       "</table>\n",
       "<p>5 rows × 81 columns</p>\n",
       "</div>"
      ],
      "text/plain": [
       "   Id  MSSubClass MSZoning  LotFrontage  LotArea Street Alley LotShape  \\\n",
       "0   1          60       RL         65.0     8450   Pave   NaN      Reg   \n",
       "1   2          20       RL         80.0     9600   Pave   NaN      Reg   \n",
       "2   3          60       RL         68.0    11250   Pave   NaN      IR1   \n",
       "3   4          70       RL         60.0     9550   Pave   NaN      IR1   \n",
       "4   5          60       RL         84.0    14260   Pave   NaN      IR1   \n",
       "\n",
       "  LandContour Utilities  ... PoolArea PoolQC Fence MiscFeature MiscVal MoSold  \\\n",
       "0         Lvl    AllPub  ...        0    NaN   NaN         NaN       0      2   \n",
       "1         Lvl    AllPub  ...        0    NaN   NaN         NaN       0      5   \n",
       "2         Lvl    AllPub  ...        0    NaN   NaN         NaN       0      9   \n",
       "3         Lvl    AllPub  ...        0    NaN   NaN         NaN       0      2   \n",
       "4         Lvl    AllPub  ...        0    NaN   NaN         NaN       0     12   \n",
       "\n",
       "  YrSold  SaleType  SaleCondition  SalePrice  \n",
       "0   2008        WD         Normal     208500  \n",
       "1   2007        WD         Normal     181500  \n",
       "2   2008        WD         Normal     223500  \n",
       "3   2006        WD        Abnorml     140000  \n",
       "4   2008        WD         Normal     250000  \n",
       "\n",
       "[5 rows x 81 columns]"
      ]
     },
     "execution_count": 10,
     "metadata": {},
     "output_type": "execute_result"
    }
   ],
   "source": [
    "data.head()"
   ]
  },
  {
   "cell_type": "code",
   "execution_count": 11,
   "metadata": {
    "execution": {
     "iopub.execute_input": "2021-02-13T04:34:38.912567Z",
     "iopub.status.busy": "2021-02-13T04:34:38.911634Z",
     "iopub.status.idle": "2021-02-13T04:34:38.914802Z",
     "shell.execute_reply": "2021-02-13T04:34:38.914179Z"
    },
    "papermill": {
     "duration": 0.049877,
     "end_time": "2021-02-13T04:34:38.914952",
     "exception": false,
     "start_time": "2021-02-13T04:34:38.865075",
     "status": "completed"
    },
    "tags": []
   },
   "outputs": [],
   "source": [
    "## Fill Missing Values\n",
    "\n",
    "data['LotFrontage']=data['LotFrontage'].fillna(data['LotFrontage'].mean())"
   ]
  },
  {
   "cell_type": "code",
   "execution_count": 12,
   "metadata": {
    "execution": {
     "iopub.execute_input": "2021-02-13T04:34:39.005032Z",
     "iopub.status.busy": "2021-02-13T04:34:39.004028Z",
     "iopub.status.idle": "2021-02-13T04:34:39.007775Z",
     "shell.execute_reply": "2021-02-13T04:34:39.008255Z"
    },
    "papermill": {
     "duration": 0.052643,
     "end_time": "2021-02-13T04:34:39.008439",
     "exception": false,
     "start_time": "2021-02-13T04:34:38.955796",
     "status": "completed"
    },
    "tags": []
   },
   "outputs": [],
   "source": [
    "data.drop(['Alley'],axis=1,inplace=True)"
   ]
  },
  {
   "cell_type": "code",
   "execution_count": 13,
   "metadata": {
    "execution": {
     "iopub.execute_input": "2021-02-13T04:34:39.099235Z",
     "iopub.status.busy": "2021-02-13T04:34:39.098484Z",
     "iopub.status.idle": "2021-02-13T04:34:39.102175Z",
     "shell.execute_reply": "2021-02-13T04:34:39.101553Z"
    },
    "papermill": {
     "duration": 0.052731,
     "end_time": "2021-02-13T04:34:39.102314",
     "exception": false,
     "start_time": "2021-02-13T04:34:39.049583",
     "status": "completed"
    },
    "tags": []
   },
   "outputs": [],
   "source": [
    "data['BsmtCond']=data['BsmtCond'].fillna(data['BsmtCond'].mode()[0])\n",
    "data['BsmtQual']=data['BsmtQual'].fillna(data['BsmtQual'].mode()[0])"
   ]
  },
  {
   "cell_type": "code",
   "execution_count": 14,
   "metadata": {
    "execution": {
     "iopub.execute_input": "2021-02-13T04:34:39.192551Z",
     "iopub.status.busy": "2021-02-13T04:34:39.191710Z",
     "iopub.status.idle": "2021-02-13T04:34:39.194892Z",
     "shell.execute_reply": "2021-02-13T04:34:39.195397Z"
    },
    "papermill": {
     "duration": 0.052535,
     "end_time": "2021-02-13T04:34:39.195582",
     "exception": false,
     "start_time": "2021-02-13T04:34:39.143047",
     "status": "completed"
    },
    "tags": []
   },
   "outputs": [],
   "source": [
    "data['FireplaceQu']=data['FireplaceQu'].fillna(data['FireplaceQu'].mode()[0])\n",
    "data['GarageType']=data['GarageType'].fillna(data['GarageType'].mode()[0])"
   ]
  },
  {
   "cell_type": "code",
   "execution_count": 15,
   "metadata": {
    "execution": {
     "iopub.execute_input": "2021-02-13T04:34:39.288386Z",
     "iopub.status.busy": "2021-02-13T04:34:39.287403Z",
     "iopub.status.idle": "2021-02-13T04:34:39.290903Z",
     "shell.execute_reply": "2021-02-13T04:34:39.290370Z"
    },
    "papermill": {
     "duration": 0.054189,
     "end_time": "2021-02-13T04:34:39.291043",
     "exception": false,
     "start_time": "2021-02-13T04:34:39.236854",
     "status": "completed"
    },
    "tags": []
   },
   "outputs": [],
   "source": [
    "data.drop(['GarageYrBlt'],axis=1,inplace=True)"
   ]
  },
  {
   "cell_type": "code",
   "execution_count": 16,
   "metadata": {
    "execution": {
     "iopub.execute_input": "2021-02-13T04:34:39.383902Z",
     "iopub.status.busy": "2021-02-13T04:34:39.383215Z",
     "iopub.status.idle": "2021-02-13T04:34:39.386424Z",
     "shell.execute_reply": "2021-02-13T04:34:39.385721Z"
    },
    "papermill": {
     "duration": 0.054042,
     "end_time": "2021-02-13T04:34:39.386568",
     "exception": false,
     "start_time": "2021-02-13T04:34:39.332526",
     "status": "completed"
    },
    "tags": []
   },
   "outputs": [],
   "source": [
    "data['GarageFinish']=data['GarageFinish'].fillna(data['GarageFinish'].mode()[0])\n",
    "data['GarageQual']=data['GarageQual'].fillna(data['GarageQual'].mode()[0])\n",
    "data['GarageCond']=data['GarageCond'].fillna(data['GarageCond'].mode()[0])"
   ]
  },
  {
   "cell_type": "code",
   "execution_count": 17,
   "metadata": {
    "execution": {
     "iopub.execute_input": "2021-02-13T04:34:39.477399Z",
     "iopub.status.busy": "2021-02-13T04:34:39.476757Z",
     "iopub.status.idle": "2021-02-13T04:34:39.480089Z",
     "shell.execute_reply": "2021-02-13T04:34:39.479385Z"
    },
    "papermill": {
     "duration": 0.051658,
     "end_time": "2021-02-13T04:34:39.480274",
     "exception": false,
     "start_time": "2021-02-13T04:34:39.428616",
     "status": "completed"
    },
    "tags": []
   },
   "outputs": [],
   "source": [
    "data.drop(['PoolQC','Fence','MiscFeature'],axis=1,inplace=True)"
   ]
  },
  {
   "cell_type": "code",
   "execution_count": 18,
   "metadata": {
    "execution": {
     "iopub.execute_input": "2021-02-13T04:34:39.569292Z",
     "iopub.status.busy": "2021-02-13T04:34:39.568545Z",
     "iopub.status.idle": "2021-02-13T04:34:39.573452Z",
     "shell.execute_reply": "2021-02-13T04:34:39.572449Z"
    },
    "papermill": {
     "duration": 0.05172,
     "end_time": "2021-02-13T04:34:39.573595",
     "exception": false,
     "start_time": "2021-02-13T04:34:39.521875",
     "status": "completed"
    },
    "tags": []
   },
   "outputs": [
    {
     "data": {
      "text/plain": [
       "(1460, 76)"
      ]
     },
     "execution_count": 18,
     "metadata": {},
     "output_type": "execute_result"
    }
   ],
   "source": [
    "data.shape"
   ]
  },
  {
   "cell_type": "code",
   "execution_count": 19,
   "metadata": {
    "execution": {
     "iopub.execute_input": "2021-02-13T04:34:39.664899Z",
     "iopub.status.busy": "2021-02-13T04:34:39.664192Z",
     "iopub.status.idle": "2021-02-13T04:34:39.667452Z",
     "shell.execute_reply": "2021-02-13T04:34:39.666906Z"
    },
    "papermill": {
     "duration": 0.052255,
     "end_time": "2021-02-13T04:34:39.667599",
     "exception": false,
     "start_time": "2021-02-13T04:34:39.615344",
     "status": "completed"
    },
    "tags": []
   },
   "outputs": [],
   "source": [
    "data.drop(['Id'],axis=1,inplace=True)"
   ]
  },
  {
   "cell_type": "code",
   "execution_count": 20,
   "metadata": {
    "execution": {
     "iopub.execute_input": "2021-02-13T04:34:39.767030Z",
     "iopub.status.busy": "2021-02-13T04:34:39.763345Z",
     "iopub.status.idle": "2021-02-13T04:34:39.771073Z",
     "shell.execute_reply": "2021-02-13T04:34:39.771578Z"
    },
    "papermill": {
     "duration": 0.061941,
     "end_time": "2021-02-13T04:34:39.771777",
     "exception": false,
     "start_time": "2021-02-13T04:34:39.709836",
     "status": "completed"
    },
    "tags": []
   },
   "outputs": [
    {
     "data": {
      "text/plain": [
       "MSSubClass       0\n",
       "MSZoning         0\n",
       "LotFrontage      0\n",
       "LotArea          0\n",
       "Street           0\n",
       "                ..\n",
       "MoSold           0\n",
       "YrSold           0\n",
       "SaleType         0\n",
       "SaleCondition    0\n",
       "SalePrice        0\n",
       "Length: 75, dtype: int64"
      ]
     },
     "execution_count": 20,
     "metadata": {},
     "output_type": "execute_result"
    }
   ],
   "source": [
    "data.isnull().sum()"
   ]
  },
  {
   "cell_type": "code",
   "execution_count": 21,
   "metadata": {
    "execution": {
     "iopub.execute_input": "2021-02-13T04:34:39.872405Z",
     "iopub.status.busy": "2021-02-13T04:34:39.871312Z",
     "iopub.status.idle": "2021-02-13T04:34:40.352313Z",
     "shell.execute_reply": "2021-02-13T04:34:40.351660Z"
    },
    "papermill": {
     "duration": 0.538437,
     "end_time": "2021-02-13T04:34:40.352452",
     "exception": false,
     "start_time": "2021-02-13T04:34:39.814015",
     "status": "completed"
    },
    "tags": []
   },
   "outputs": [
    {
     "data": {
      "text/plain": [
       "<AxesSubplot:>"
      ]
     },
     "execution_count": 21,
     "metadata": {},
     "output_type": "execute_result"
    },
    {
     "data": {
      "image/png": "[encoded data removed]",
      "text/plain": [
       "<Figure size 432x288 with 1 Axes>"
      ]
     },
     "metadata": {
      "needs_background": "light"
     },
     "output_type": "display_data"
    }
   ],
   "source": [
    "sns.heatmap(data.isnull(),yticklabels=False,cbar=False,cmap='coolwarm')"
   ]
  },
  {
   "cell_type": "code",
   "execution_count": 22,
   "metadata": {
    "execution": {
     "iopub.execute_input": "2021-02-13T04:34:40.448385Z",
     "iopub.status.busy": "2021-02-13T04:34:40.447602Z",
     "iopub.status.idle": "2021-02-13T04:34:40.452497Z",
     "shell.execute_reply": "2021-02-13T04:34:40.451977Z"
    },
    "papermill": {
     "duration": 0.056125,
     "end_time": "2021-02-13T04:34:40.452655",
     "exception": false,
     "start_time": "2021-02-13T04:34:40.396530",
     "status": "completed"
    },
    "tags": []
   },
   "outputs": [],
   "source": [
    "data['MasVnrType']=data['MasVnrType'].fillna(data['MasVnrType'].mode()[0])\n",
    "data['MasVnrArea']=data['MasVnrArea'].fillna(data['MasVnrArea'].mode()[0])"
   ]
  },
  {
   "cell_type": "code",
   "execution_count": 23,
   "metadata": {
    "execution": {
     "iopub.execute_input": "2021-02-13T04:34:40.548212Z",
     "iopub.status.busy": "2021-02-13T04:34:40.547536Z",
     "iopub.status.idle": "2021-02-13T04:34:40.550196Z",
     "shell.execute_reply": "2021-02-13T04:34:40.549555Z"
    },
    "papermill": {
     "duration": 0.05325,
     "end_time": "2021-02-13T04:34:40.550340",
     "exception": false,
     "start_time": "2021-02-13T04:34:40.497090",
     "status": "completed"
    },
    "tags": []
   },
   "outputs": [],
   "source": [
    "data['BsmtExposure']=data['BsmtExposure'].fillna(data['BsmtExposure'].mode()[0])"
   ]
  },
  {
   "cell_type": "code",
   "execution_count": 24,
   "metadata": {
    "execution": {
     "iopub.execute_input": "2021-02-13T04:34:40.652381Z",
     "iopub.status.busy": "2021-02-13T04:34:40.651284Z",
     "iopub.status.idle": "2021-02-13T04:34:41.209138Z",
     "shell.execute_reply": "2021-02-13T04:34:41.208546Z"
    },
    "papermill": {
     "duration": 0.614076,
     "end_time": "2021-02-13T04:34:41.209279",
     "exception": false,
     "start_time": "2021-02-13T04:34:40.595203",
     "status": "completed"
    },
    "tags": []
   },
   "outputs": [
    {
     "data": {
      "text/plain": [
       "<AxesSubplot:>"
      ]
     },
     "execution_count": 24,
     "metadata": {},
     "output_type": "execute_result"
    },
    {
     "data": {
      "image/png": "[encoded data removed]",
      "text/plain": [
       "<Figure size 432x288 with 1 Axes>"
      ]
     },
     "metadata": {
      "needs_background": "light"
     },
     "output_type": "display_data"
    }
   ],
   "source": [
    "sns.heatmap(data.isnull(),yticklabels=False,cbar=False,cmap='coolwarm')"
   ]
  },
  {
   "cell_type": "code",
   "execution_count": 25,
   "metadata": {
    "execution": {
     "iopub.execute_input": "2021-02-13T04:34:41.304729Z",
     "iopub.status.busy": "2021-02-13T04:34:41.304049Z",
     "iopub.status.idle": "2021-02-13T04:34:41.311624Z",
     "shell.execute_reply": "2021-02-13T04:34:41.310983Z"
    },
    "papermill": {
     "duration": 0.056928,
     "end_time": "2021-02-13T04:34:41.311798",
     "exception": false,
     "start_time": "2021-02-13T04:34:41.254870",
     "status": "completed"
    },
    "tags": []
   },
   "outputs": [],
   "source": [
    "data['BsmtFinType2']=data['BsmtFinType2'].fillna(data['BsmtFinType2'].mode()[0])"
   ]
  },
  {
   "cell_type": "code",
   "execution_count": 26,
   "metadata": {
    "execution": {
     "iopub.execute_input": "2021-02-13T04:34:41.416517Z",
     "iopub.status.busy": "2021-02-13T04:34:41.415714Z",
     "iopub.status.idle": "2021-02-13T04:34:41.439714Z",
     "shell.execute_reply": "2021-02-13T04:34:41.439089Z"
    },
    "papermill": {
     "duration": 0.081503,
     "end_time": "2021-02-13T04:34:41.439865",
     "exception": false,
     "start_time": "2021-02-13T04:34:41.358362",
     "status": "completed"
    },
    "tags": []
   },
   "outputs": [],
   "source": [
    "data.dropna(inplace=True)"
   ]
  },
  {
   "cell_type": "code",
   "execution_count": 27,
   "metadata": {
    "execution": {
     "iopub.execute_input": "2021-02-13T04:34:41.537039Z",
     "iopub.status.busy": "2021-02-13T04:34:41.536357Z",
     "iopub.status.idle": "2021-02-13T04:34:41.539631Z",
     "shell.execute_reply": "2021-02-13T04:34:41.540186Z"
    },
    "papermill": {
     "duration": 0.054383,
     "end_time": "2021-02-13T04:34:41.540372",
     "exception": false,
     "start_time": "2021-02-13T04:34:41.485989",
     "status": "completed"
    },
    "tags": []
   },
   "outputs": [
    {
     "data": {
      "text/plain": [
       "(1422, 75)"
      ]
     },
     "execution_count": 27,
     "metadata": {},
     "output_type": "execute_result"
    }
   ],
   "source": [
    "data.shape"
   ]
  },
  {
   "cell_type": "code",
   "execution_count": 28,
   "metadata": {
    "execution": {
     "iopub.execute_input": "2021-02-13T04:34:41.638005Z",
     "iopub.status.busy": "2021-02-13T04:34:41.637198Z",
     "iopub.status.idle": "2021-02-13T04:34:41.643064Z",
     "shell.execute_reply": "2021-02-13T04:34:41.643612Z"
    },
    "papermill": {
     "duration": 0.05609,
     "end_time": "2021-02-13T04:34:41.643819",
     "exception": false,
     "start_time": "2021-02-13T04:34:41.587729",
     "status": "completed"
    },
    "tags": []
   },
   "outputs": [],
   "source": [
    "# Handling categorical features\n",
    "columns=['MSZoning','Street','LotShape','LandContour','Utilities','LotConfig','LandSlope','Neighborhood',\n",
    "         'Condition2','BldgType','Condition1','HouseStyle','SaleType',\n",
    "        'SaleCondition','ExterCond',\n",
    "         'ExterQual','Foundation','BsmtQual','BsmtCond','BsmtExposure','BsmtFinType1','BsmtFinType2',\n",
    "        'RoofStyle','RoofMatl','Exterior1st','Exterior2nd','MasVnrType','Heating','HeatingQC',\n",
    "         'CentralAir',\n",
    "         'Electrical','KitchenQual','Functional',\n",
    "         'FireplaceQu','GarageType','GarageFinish','GarageQual','GarageCond','PavedDrive']"
   ]
  },
  {
   "cell_type": "code",
   "execution_count": 29,
   "metadata": {
    "execution": {
     "iopub.execute_input": "2021-02-13T04:34:41.740481Z",
     "iopub.status.busy": "2021-02-13T04:34:41.739869Z",
     "iopub.status.idle": "2021-02-13T04:34:41.744525Z",
     "shell.execute_reply": "2021-02-13T04:34:41.745077Z"
    },
    "papermill": {
     "duration": 0.054625,
     "end_time": "2021-02-13T04:34:41.745250",
     "exception": false,
     "start_time": "2021-02-13T04:34:41.690625",
     "status": "completed"
    },
    "tags": []
   },
   "outputs": [
    {
     "data": {
      "text/plain": [
       "39"
      ]
     },
     "execution_count": 29,
     "metadata": {},
     "output_type": "execute_result"
    }
   ],
   "source": [
    "len(columns)"
   ]
  },
  {
   "cell_type": "code",
   "execution_count": 30,
   "metadata": {
    "execution": {
     "iopub.execute_input": "2021-02-13T04:34:41.847743Z",
     "iopub.status.busy": "2021-02-13T04:34:41.846795Z",
     "iopub.status.idle": "2021-02-13T04:34:41.849274Z",
     "shell.execute_reply": "2021-02-13T04:34:41.849714Z"
    },
    "papermill": {
     "duration": 0.057352,
     "end_time": "2021-02-13T04:34:41.849892",
     "exception": false,
     "start_time": "2021-02-13T04:34:41.792540",
     "status": "completed"
    },
    "tags": []
   },
   "outputs": [],
   "source": [
    "def category_onehot_multcols(multcolumns):\n",
    "    df_final=final_df\n",
    "    i=0\n",
    "    for fields in multcolumns:\n",
    "        \n",
    "        print(fields)\n",
    "        df1=pd.get_dummies(final_df[fields],drop_first=True)\n",
    "        \n",
    "        final_df.drop([fields],axis=1,inplace=True)\n",
    "        if i==0:\n",
    "            df_final=df1.copy()\n",
    "        else:\n",
    "            \n",
    "            df_final=pd.concat([df_final,df1],axis=1)\n",
    "        i=i+1\n",
    "       \n",
    "        \n",
    "    df_final=pd.concat([final_df,df_final],axis=1)\n",
    "        \n",
    "    return df_final"
   ]
  },
  {
   "cell_type": "code",
   "execution_count": 31,
   "metadata": {
    "execution": {
     "iopub.execute_input": "2021-02-13T04:34:41.950344Z",
     "iopub.status.busy": "2021-02-13T04:34:41.949629Z",
     "iopub.status.idle": "2021-02-13T04:34:41.952339Z",
     "shell.execute_reply": "2021-02-13T04:34:41.952812Z"
    },
    "papermill": {
     "duration": 0.055012,
     "end_time": "2021-02-13T04:34:41.953013",
     "exception": false,
     "start_time": "2021-02-13T04:34:41.898001",
     "status": "completed"
    },
    "tags": []
   },
   "outputs": [],
   "source": [
    "main_df=data.copy()"
   ]
  },
  {
   "cell_type": "code",
   "execution_count": 32,
   "metadata": {
    "execution": {
     "iopub.execute_input": "2021-02-13T04:34:42.051307Z",
     "iopub.status.busy": "2021-02-13T04:34:42.050514Z",
     "iopub.status.idle": "2021-02-13T04:34:42.090237Z",
     "shell.execute_reply": "2021-02-13T04:34:42.090770Z"
    },
    "papermill": {
     "duration": 0.090568,
     "end_time": "2021-02-13T04:34:42.090983",
     "exception": false,
     "start_time": "2021-02-13T04:34:42.000415",
     "status": "completed"
    },
    "tags": []
   },
   "outputs": [],
   "source": [
    "test_df = pd.read_csv(\"/kaggle/input/house-prices-advanced-regression-techniques/test.csv\")"
   ]
  },
  {
   "cell_type": "code",
   "execution_count": 33,
   "metadata": {
    "execution": {
     "iopub.execute_input": "2021-02-13T04:34:42.189728Z",
     "iopub.status.busy": "2021-02-13T04:34:42.189043Z",
     "iopub.status.idle": "2021-02-13T04:34:42.194838Z",
     "shell.execute_reply": "2021-02-13T04:34:42.195307Z"
    },
    "papermill": {
     "duration": 0.056945,
     "end_time": "2021-02-13T04:34:42.195486",
     "exception": false,
     "start_time": "2021-02-13T04:34:42.138541",
     "status": "completed"
    },
    "tags": []
   },
   "outputs": [
    {
     "data": {
      "text/plain": [
       "(1459, 80)"
      ]
     },
     "execution_count": 33,
     "metadata": {},
     "output_type": "execute_result"
    }
   ],
   "source": [
    "test_df.shape"
   ]
  },
  {
   "cell_type": "code",
   "execution_count": 34,
   "metadata": {
    "execution": {
     "iopub.execute_input": "2021-02-13T04:34:42.305801Z",
     "iopub.status.busy": "2021-02-13T04:34:42.305095Z",
     "iopub.status.idle": "2021-02-13T04:34:42.320254Z",
     "shell.execute_reply": "2021-02-13T04:34:42.319499Z"
    },
    "papermill": {
     "duration": 0.076833,
     "end_time": "2021-02-13T04:34:42.320393",
     "exception": false,
     "start_time": "2021-02-13T04:34:42.243560",
     "status": "completed"
    },
    "tags": []
   },
   "outputs": [],
   "source": [
    "## Fill Missing Values\n",
    "\n",
    "test_df['LotFrontage']=test_df['LotFrontage'].fillna(test_df['LotFrontage'].mean())\n",
    "test_df['MSZoning']=test_df['MSZoning'].fillna(test_df['MSZoning'].mode()[0])\n",
    "test_df.drop(['Alley'],axis=1,inplace=True)\n",
    "test_df['BsmtCond']=test_df['BsmtCond'].fillna(test_df['BsmtCond'].mode()[0])\n",
    "test_df['BsmtQual']=test_df['BsmtQual'].fillna(test_df['BsmtQual'].mode()[0])\n",
    "test_df['FireplaceQu']=test_df['FireplaceQu'].fillna(test_df['FireplaceQu'].mode()[0])\n",
    "test_df['GarageType']=test_df['GarageType'].fillna(test_df['GarageType'].mode()[0])\n",
    "test_df.drop(['GarageYrBlt'],axis=1,inplace=True)\n",
    "test_df['GarageFinish']=test_df['GarageFinish'].fillna(test_df['GarageFinish'].mode()[0])\n",
    "test_df['GarageQual']=test_df['GarageQual'].fillna(test_df['GarageQual'].mode()[0])\n",
    "test_df['GarageCond']=test_df['GarageCond'].fillna(test_df['GarageCond'].mode()[0])\n",
    "test_df.drop(['PoolQC','Fence','MiscFeature'],axis=1,inplace=True)"
   ]
  },
  {
   "cell_type": "code",
   "execution_count": 35,
   "metadata": {
    "execution": {
     "iopub.execute_input": "2021-02-13T04:34:42.422213Z",
     "iopub.status.busy": "2021-02-13T04:34:42.421227Z",
     "iopub.status.idle": "2021-02-13T04:34:42.425728Z",
     "shell.execute_reply": "2021-02-13T04:34:42.425094Z"
    },
    "papermill": {
     "duration": 0.057243,
     "end_time": "2021-02-13T04:34:42.425872",
     "exception": false,
     "start_time": "2021-02-13T04:34:42.368629",
     "status": "completed"
    },
    "tags": []
   },
   "outputs": [
    {
     "data": {
      "text/plain": [
       "(1459, 75)"
      ]
     },
     "execution_count": 35,
     "metadata": {},
     "output_type": "execute_result"
    }
   ],
   "source": [
    "test_df.shape"
   ]
  },
  {
   "cell_type": "code",
   "execution_count": 36,
   "metadata": {
    "execution": {
     "iopub.execute_input": "2021-02-13T04:34:42.532495Z",
     "iopub.status.busy": "2021-02-13T04:34:42.531847Z",
     "iopub.status.idle": "2021-02-13T04:34:42.535332Z",
     "shell.execute_reply": "2021-02-13T04:34:42.534720Z"
    },
    "papermill": {
     "duration": 0.061052,
     "end_time": "2021-02-13T04:34:42.535467",
     "exception": false,
     "start_time": "2021-02-13T04:34:42.474415",
     "status": "completed"
    },
    "tags": []
   },
   "outputs": [],
   "source": [
    "test_df.drop(['Id'],axis=1,inplace=True)"
   ]
  },
  {
   "cell_type": "code",
   "execution_count": 37,
   "metadata": {
    "execution": {
     "iopub.execute_input": "2021-02-13T04:34:42.638975Z",
     "iopub.status.busy": "2021-02-13T04:34:42.638280Z",
     "iopub.status.idle": "2021-02-13T04:34:42.641408Z",
     "shell.execute_reply": "2021-02-13T04:34:42.641963Z"
    },
    "papermill": {
     "duration": 0.057137,
     "end_time": "2021-02-13T04:34:42.642150",
     "exception": false,
     "start_time": "2021-02-13T04:34:42.585013",
     "status": "completed"
    },
    "tags": []
   },
   "outputs": [
    {
     "data": {
      "text/plain": [
       "(1459, 74)"
      ]
     },
     "execution_count": 37,
     "metadata": {},
     "output_type": "execute_result"
    }
   ],
   "source": [
    "test_df.shape"
   ]
  },
  {
   "cell_type": "code",
   "execution_count": 38,
   "metadata": {
    "execution": {
     "iopub.execute_input": "2021-02-13T04:34:42.744600Z",
     "iopub.status.busy": "2021-02-13T04:34:42.743932Z",
     "iopub.status.idle": "2021-02-13T04:34:43.210128Z",
     "shell.execute_reply": "2021-02-13T04:34:43.210605Z"
    },
    "papermill": {
     "duration": 0.51957,
     "end_time": "2021-02-13T04:34:43.210811",
     "exception": false,
     "start_time": "2021-02-13T04:34:42.691241",
     "status": "completed"
    },
    "tags": []
   },
   "outputs": [
    {
     "data": {
      "text/plain": [
       "<AxesSubplot:>"
      ]
     },
     "execution_count": 38,
     "metadata": {},
     "output_type": "execute_result"
    },
    {
     "data": {
      "image/png": "[encoded data removed]",
      "text/plain": [
       "<Figure size 432x288 with 1 Axes>"
      ]
     },
     "metadata": {
      "needs_background": "light"
     },
     "output_type": "display_data"
    }
   ],
   "source": [
    "sns.heatmap(test_df.isnull(),yticklabels=False,cbar=False,cmap='viridis')"
   ]
  },
  {
   "cell_type": "code",
   "execution_count": 39,
   "metadata": {
    "execution": {
     "iopub.execute_input": "2021-02-13T04:34:43.316605Z",
     "iopub.status.busy": "2021-02-13T04:34:43.315893Z",
     "iopub.status.idle": "2021-02-13T04:34:43.322660Z",
     "shell.execute_reply": "2021-02-13T04:34:43.323170Z"
    },
    "papermill": {
     "duration": 0.061677,
     "end_time": "2021-02-13T04:34:43.323346",
     "exception": false,
     "start_time": "2021-02-13T04:34:43.261669",
     "status": "completed"
    },
    "tags": []
   },
   "outputs": [],
   "source": [
    "test_df['MasVnrType']=test_df['MasVnrType'].fillna(test_df['MasVnrType'].mode()[0])\n",
    "test_df['MasVnrArea']=test_df['MasVnrArea'].fillna(test_df['MasVnrArea'].mode()[0])"
   ]
  },
  {
   "cell_type": "code",
   "execution_count": 40,
   "metadata": {
    "execution": {
     "iopub.execute_input": "2021-02-13T04:34:43.428829Z",
     "iopub.status.busy": "2021-02-13T04:34:43.427739Z",
     "iopub.status.idle": "2021-02-13T04:34:43.898351Z",
     "shell.execute_reply": "2021-02-13T04:34:43.898836Z"
    },
    "papermill": {
     "duration": 0.525155,
     "end_time": "2021-02-13T04:34:43.899011",
     "exception": false,
     "start_time": "2021-02-13T04:34:43.373856",
     "status": "completed"
    },
    "tags": []
   },
   "outputs": [
    {
     "data": {
      "text/plain": [
       "<AxesSubplot:>"
      ]
     },
     "execution_count": 40,
     "metadata": {},
     "output_type": "execute_result"
    },
    {
     "data": {
      "image/png": "[encoded data removed]",
      "text/plain": [
       "<Figure size 432x288 with 1 Axes>"
      ]
     },
     "metadata": {
      "needs_background": "light"
     },
     "output_type": "display_data"
    }
   ],
   "source": [
    "sns.heatmap(test_df.isnull(),yticklabels=False,cbar=False,cmap='viridis')"
   ]
  },
  {
   "cell_type": "code",
   "execution_count": 41,
   "metadata": {
    "execution": {
     "iopub.execute_input": "2021-02-13T04:34:44.006848Z",
     "iopub.status.busy": "2021-02-13T04:34:44.005867Z",
     "iopub.status.idle": "2021-02-13T04:34:44.013675Z",
     "shell.execute_reply": "2021-02-13T04:34:44.014224Z"
    },
    "papermill": {
     "duration": 0.063056,
     "end_time": "2021-02-13T04:34:44.014395",
     "exception": false,
     "start_time": "2021-02-13T04:34:43.951339",
     "status": "completed"
    },
    "tags": []
   },
   "outputs": [],
   "source": [
    "test_df['BsmtExposure']=test_df['BsmtExposure'].fillna(test_df['BsmtExposure'].mode()[0])\n",
    "test_df['BsmtFinType2']=test_df['BsmtFinType2'].fillna(test_df['BsmtFinType2'].mode()[0])"
   ]
  },
  {
   "cell_type": "code",
   "execution_count": 42,
   "metadata": {
    "execution": {
     "iopub.execute_input": "2021-02-13T04:34:44.122178Z",
     "iopub.status.busy": "2021-02-13T04:34:44.121230Z",
     "iopub.status.idle": "2021-02-13T04:34:44.154949Z",
     "shell.execute_reply": "2021-02-13T04:34:44.155493Z"
    },
    "papermill": {
     "duration": 0.089303,
     "end_time": "2021-02-13T04:34:44.155692",
     "exception": false,
     "start_time": "2021-02-13T04:34:44.066389",
     "status": "completed"
    },
    "tags": []
   },
   "outputs": [
    {
     "data": {
      "text/html": [
       "<div>\n",
       "<style scoped>\n",
       "    .dataframe tbody tr th:only-of-type {\n",
       "        vertical-align: middle;\n",
       "    }\n",
       "\n",
       "    .dataframe tbody tr th {\n",
       "        vertical-align: top;\n",
       "    }\n",
       "\n",
       "    .dataframe thead th {\n",
       "        text-align: right;\n",
       "    }\n",
       "</style>\n",
       "<table border=\"1\" class=\"dataframe\">\n",
       "  <thead>\n",
       "    <tr style=\"text-align: right;\">\n",
       "      <th></th>\n",
       "      <th>Utilities</th>\n",
       "      <th>Exterior1st</th>\n",
       "      <th>Exterior2nd</th>\n",
       "      <th>BsmtFinType1</th>\n",
       "      <th>BsmtFinSF1</th>\n",
       "      <th>BsmtFinSF2</th>\n",
       "      <th>BsmtUnfSF</th>\n",
       "      <th>TotalBsmtSF</th>\n",
       "      <th>BsmtFullBath</th>\n",
       "      <th>BsmtHalfBath</th>\n",
       "      <th>KitchenQual</th>\n",
       "      <th>Functional</th>\n",
       "      <th>GarageCars</th>\n",
       "      <th>GarageArea</th>\n",
       "      <th>SaleType</th>\n",
       "    </tr>\n",
       "  </thead>\n",
       "  <tbody>\n",
       "    <tr>\n",
       "      <th>0</th>\n",
       "      <td>AllPub</td>\n",
       "      <td>VinylSd</td>\n",
       "      <td>VinylSd</td>\n",
       "      <td>Rec</td>\n",
       "      <td>468.0</td>\n",
       "      <td>144.0</td>\n",
       "      <td>270.0</td>\n",
       "      <td>882.0</td>\n",
       "      <td>0.0</td>\n",
       "      <td>0.0</td>\n",
       "      <td>TA</td>\n",
       "      <td>Typ</td>\n",
       "      <td>1.0</td>\n",
       "      <td>730.0</td>\n",
       "      <td>WD</td>\n",
       "    </tr>\n",
       "    <tr>\n",
       "      <th>1</th>\n",
       "      <td>AllPub</td>\n",
       "      <td>Wd Sdng</td>\n",
       "      <td>Wd Sdng</td>\n",
       "      <td>ALQ</td>\n",
       "      <td>923.0</td>\n",
       "      <td>0.0</td>\n",
       "      <td>406.0</td>\n",
       "      <td>1329.0</td>\n",
       "      <td>0.0</td>\n",
       "      <td>0.0</td>\n",
       "      <td>Gd</td>\n",
       "      <td>Typ</td>\n",
       "      <td>1.0</td>\n",
       "      <td>312.0</td>\n",
       "      <td>WD</td>\n",
       "    </tr>\n",
       "    <tr>\n",
       "      <th>2</th>\n",
       "      <td>AllPub</td>\n",
       "      <td>VinylSd</td>\n",
       "      <td>VinylSd</td>\n",
       "      <td>GLQ</td>\n",
       "      <td>791.0</td>\n",
       "      <td>0.0</td>\n",
       "      <td>137.0</td>\n",
       "      <td>928.0</td>\n",
       "      <td>0.0</td>\n",
       "      <td>0.0</td>\n",
       "      <td>TA</td>\n",
       "      <td>Typ</td>\n",
       "      <td>2.0</td>\n",
       "      <td>482.0</td>\n",
       "      <td>WD</td>\n",
       "    </tr>\n",
       "    <tr>\n",
       "      <th>3</th>\n",
       "      <td>AllPub</td>\n",
       "      <td>VinylSd</td>\n",
       "      <td>VinylSd</td>\n",
       "      <td>GLQ</td>\n",
       "      <td>602.0</td>\n",
       "      <td>0.0</td>\n",
       "      <td>324.0</td>\n",
       "      <td>926.0</td>\n",
       "      <td>0.0</td>\n",
       "      <td>0.0</td>\n",
       "      <td>Gd</td>\n",
       "      <td>Typ</td>\n",
       "      <td>2.0</td>\n",
       "      <td>470.0</td>\n",
       "      <td>WD</td>\n",
       "    </tr>\n",
       "    <tr>\n",
       "      <th>4</th>\n",
       "      <td>AllPub</td>\n",
       "      <td>HdBoard</td>\n",
       "      <td>HdBoard</td>\n",
       "      <td>ALQ</td>\n",
       "      <td>263.0</td>\n",
       "      <td>0.0</td>\n",
       "      <td>1017.0</td>\n",
       "      <td>1280.0</td>\n",
       "      <td>0.0</td>\n",
       "      <td>0.0</td>\n",
       "      <td>Gd</td>\n",
       "      <td>Typ</td>\n",
       "      <td>2.0</td>\n",
       "      <td>506.0</td>\n",
       "      <td>WD</td>\n",
       "    </tr>\n",
       "  </tbody>\n",
       "</table>\n",
       "</div>"
      ],
      "text/plain": [
       "  Utilities Exterior1st Exterior2nd BsmtFinType1  BsmtFinSF1  BsmtFinSF2  \\\n",
       "0    AllPub     VinylSd     VinylSd          Rec       468.0       144.0   \n",
       "1    AllPub     Wd Sdng     Wd Sdng          ALQ       923.0         0.0   \n",
       "2    AllPub     VinylSd     VinylSd          GLQ       791.0         0.0   \n",
       "3    AllPub     VinylSd     VinylSd          GLQ       602.0         0.0   \n",
       "4    AllPub     HdBoard     HdBoard          ALQ       263.0         0.0   \n",
       "\n",
       "   BsmtUnfSF  TotalBsmtSF  BsmtFullBath  BsmtHalfBath KitchenQual Functional  \\\n",
       "0      270.0        882.0           0.0           0.0          TA        Typ   \n",
       "1      406.0       1329.0           0.0           0.0          Gd        Typ   \n",
       "2      137.0        928.0           0.0           0.0          TA        Typ   \n",
       "3      324.0        926.0           0.0           0.0          Gd        Typ   \n",
       "4     1017.0       1280.0           0.0           0.0          Gd        Typ   \n",
       "\n",
       "   GarageCars  GarageArea SaleType  \n",
       "0         1.0       730.0       WD  \n",
       "1         1.0       312.0       WD  \n",
       "2         2.0       482.0       WD  \n",
       "3         2.0       470.0       WD  \n",
       "4         2.0       506.0       WD  "
      ]
     },
     "execution_count": 42,
     "metadata": {},
     "output_type": "execute_result"
    }
   ],
   "source": [
    "test_df.loc[:, test_df.isnull().any()].head()"
   ]
  },
  {
   "cell_type": "code",
   "execution_count": 43,
   "metadata": {
    "execution": {
     "iopub.execute_input": "2021-02-13T04:34:44.270211Z",
     "iopub.status.busy": "2021-02-13T04:34:44.269244Z",
     "iopub.status.idle": "2021-02-13T04:34:44.274571Z",
     "shell.execute_reply": "2021-02-13T04:34:44.275088Z"
    },
    "papermill": {
     "duration": 0.062344,
     "end_time": "2021-02-13T04:34:44.275259",
     "exception": false,
     "start_time": "2021-02-13T04:34:44.212915",
     "status": "completed"
    },
    "tags": []
   },
   "outputs": [
    {
     "data": {
      "text/plain": [
       "(1459, 74)"
      ]
     },
     "execution_count": 43,
     "metadata": {},
     "output_type": "execute_result"
    }
   ],
   "source": [
    "test_df.shape"
   ]
  },
  {
   "cell_type": "code",
   "execution_count": 44,
   "metadata": {
    "execution": {
     "iopub.execute_input": "2021-02-13T04:34:44.402741Z",
     "iopub.status.busy": "2021-02-13T04:34:44.401995Z",
     "iopub.status.idle": "2021-02-13T04:34:44.409541Z",
     "shell.execute_reply": "2021-02-13T04:34:44.410094Z"
    },
    "papermill": {
     "duration": 0.080405,
     "end_time": "2021-02-13T04:34:44.410269",
     "exception": false,
     "start_time": "2021-02-13T04:34:44.329864",
     "status": "completed"
    },
    "tags": []
   },
   "outputs": [],
   "source": [
    "test_df['Utilities']=test_df['Utilities'].fillna(test_df['Utilities'].mode()[0])\n",
    "test_df['Exterior1st']=test_df['Exterior1st'].fillna(test_df['Exterior1st'].mode()[0])\n",
    "test_df['Exterior2nd']=test_df['Exterior2nd'].fillna(test_df['Exterior2nd'].mode()[0])\n",
    "test_df['BsmtFinType1']=test_df['BsmtFinType1'].fillna(test_df['BsmtFinType1'].mode()[0])\n",
    "test_df['BsmtFinSF1']=test_df['BsmtFinSF1'].fillna(test_df['BsmtFinSF1'].mean())\n",
    "test_df['BsmtFinSF2']=test_df['BsmtFinSF2'].fillna(test_df['BsmtFinSF2'].mean())\n",
    "test_df['BsmtUnfSF']=test_df['BsmtUnfSF'].fillna(test_df['BsmtUnfSF'].mean())\n",
    "test_df['TotalBsmtSF']=test_df['TotalBsmtSF'].fillna(test_df['TotalBsmtSF'].mean())\n",
    "test_df['BsmtFullBath']=test_df['BsmtFullBath'].fillna(test_df['BsmtFullBath'].mode()[0])\n",
    "test_df['BsmtHalfBath']=test_df['BsmtHalfBath'].fillna(test_df['BsmtHalfBath'].mode()[0])\n",
    "test_df['KitchenQual']=test_df['KitchenQual'].fillna(test_df['KitchenQual'].mode()[0])\n",
    "test_df['Functional']=test_df['Functional'].fillna(test_df['Functional'].mode()[0])\n",
    "test_df['GarageCars']=test_df['GarageCars'].fillna(test_df['GarageCars'].mean())\n",
    "test_df['GarageArea']=test_df['GarageArea'].fillna(test_df['GarageArea'].mean())\n",
    "test_df['SaleType']=test_df['SaleType'].fillna(test_df['SaleType'].mode()[0])"
   ]
  },
  {
   "cell_type": "code",
   "execution_count": 45,
   "metadata": {
    "execution": {
     "iopub.execute_input": "2021-02-13T04:34:44.521040Z",
     "iopub.status.busy": "2021-02-13T04:34:44.520379Z",
     "iopub.status.idle": "2021-02-13T04:34:44.537625Z",
     "shell.execute_reply": "2021-02-13T04:34:44.538175Z"
    },
    "papermill": {
     "duration": 0.074441,
     "end_time": "2021-02-13T04:34:44.538375",
     "exception": false,
     "start_time": "2021-02-13T04:34:44.463934",
     "status": "completed"
    },
    "tags": []
   },
   "outputs": [],
   "source": [
    "final_df=pd.concat([data,test_df],axis=0)"
   ]
  },
  {
   "cell_type": "code",
   "execution_count": 46,
   "metadata": {
    "execution": {
     "iopub.execute_input": "2021-02-13T04:34:44.649703Z",
     "iopub.status.busy": "2021-02-13T04:34:44.649072Z",
     "iopub.status.idle": "2021-02-13T04:34:44.653516Z",
     "shell.execute_reply": "2021-02-13T04:34:44.654102Z"
    },
    "papermill": {
     "duration": 0.061831,
     "end_time": "2021-02-13T04:34:44.654266",
     "exception": false,
     "start_time": "2021-02-13T04:34:44.592435",
     "status": "completed"
    },
    "tags": []
   },
   "outputs": [
    {
     "data": {
      "text/plain": [
       "(2881, 75)"
      ]
     },
     "execution_count": 46,
     "metadata": {},
     "output_type": "execute_result"
    }
   ],
   "source": [
    "final_df.shape"
   ]
  },
  {
   "cell_type": "code",
   "execution_count": 47,
   "metadata": {
    "execution": {
     "iopub.execute_input": "2021-02-13T04:34:44.767548Z",
     "iopub.status.busy": "2021-02-13T04:34:44.766891Z",
     "iopub.status.idle": "2021-02-13T04:34:44.774120Z",
     "shell.execute_reply": "2021-02-13T04:34:44.774710Z"
    },
    "papermill": {
     "duration": 0.06619,
     "end_time": "2021-02-13T04:34:44.774891",
     "exception": false,
     "start_time": "2021-02-13T04:34:44.708701",
     "status": "completed"
    },
    "tags": []
   },
   "outputs": [
    {
     "data": {
      "text/plain": [
       "0       208500.0\n",
       "1       181500.0\n",
       "2       223500.0\n",
       "3       140000.0\n",
       "4       250000.0\n",
       "          ...   \n",
       "1454         NaN\n",
       "1455         NaN\n",
       "1456         NaN\n",
       "1457         NaN\n",
       "1458         NaN\n",
       "Name: SalePrice, Length: 2881, dtype: float64"
      ]
     },
     "execution_count": 47,
     "metadata": {},
     "output_type": "execute_result"
    }
   ],
   "source": [
    "final_df['SalePrice']"
   ]
  },
  {
   "cell_type": "code",
   "execution_count": 48,
   "metadata": {
    "execution": {
     "iopub.execute_input": "2021-02-13T04:34:44.888474Z",
     "iopub.status.busy": "2021-02-13T04:34:44.887660Z",
     "iopub.status.idle": "2021-02-13T04:34:45.047895Z",
     "shell.execute_reply": "2021-02-13T04:34:45.047334Z"
    },
    "papermill": {
     "duration": 0.218153,
     "end_time": "2021-02-13T04:34:45.048056",
     "exception": false,
     "start_time": "2021-02-13T04:34:44.829903",
     "status": "completed"
    },
    "tags": []
   },
   "outputs": [
    {
     "name": "stdout",
     "output_type": "stream",
     "text": [
      "MSZoning\n",
      "Street\n",
      "LotShape\n",
      "LandContour\n",
      "Utilities\n",
      "LotConfig\n",
      "LandSlope\n",
      "Neighborhood\n",
      "Condition2\n",
      "BldgType\n",
      "Condition1\n",
      "HouseStyle\n",
      "SaleType\n",
      "SaleCondition\n",
      "ExterCond\n",
      "ExterQual\n",
      "Foundation\n",
      "BsmtQual\n",
      "BsmtCond\n",
      "BsmtExposure\n",
      "BsmtFinType1\n",
      "BsmtFinType2\n",
      "RoofStyle\n",
      "RoofMatl\n",
      "Exterior1st\n",
      "Exterior2nd\n",
      "MasVnrType\n",
      "Heating\n",
      "HeatingQC\n",
      "CentralAir\n",
      "Electrical\n",
      "KitchenQual\n",
      "Functional\n",
      "FireplaceQu\n",
      "GarageType\n",
      "GarageFinish\n",
      "GarageQual\n",
      "GarageCond\n",
      "PavedDrive\n"
     ]
    }
   ],
   "source": [
    "final_df=category_onehot_multcols(columns)"
   ]
  },
  {
   "cell_type": "code",
   "execution_count": 49,
   "metadata": {
    "execution": {
     "iopub.execute_input": "2021-02-13T04:34:45.163762Z",
     "iopub.status.busy": "2021-02-13T04:34:45.162540Z",
     "iopub.status.idle": "2021-02-13T04:34:45.166923Z",
     "shell.execute_reply": "2021-02-13T04:34:45.166275Z"
    },
    "papermill": {
     "duration": 0.064095,
     "end_time": "2021-02-13T04:34:45.167073",
     "exception": false,
     "start_time": "2021-02-13T04:34:45.102978",
     "status": "completed"
    },
    "tags": []
   },
   "outputs": [
    {
     "data": {
      "text/plain": [
       "(2881, 235)"
      ]
     },
     "execution_count": 49,
     "metadata": {},
     "output_type": "execute_result"
    }
   ],
   "source": [
    "final_df.shape"
   ]
  },
  {
   "cell_type": "code",
   "execution_count": 50,
   "metadata": {
    "execution": {
     "iopub.execute_input": "2021-02-13T04:34:45.285616Z",
     "iopub.status.busy": "2021-02-13T04:34:45.284973Z",
     "iopub.status.idle": "2021-02-13T04:34:45.287054Z",
     "shell.execute_reply": "2021-02-13T04:34:45.287668Z"
    },
    "papermill": {
     "duration": 0.065146,
     "end_time": "2021-02-13T04:34:45.287841",
     "exception": false,
     "start_time": "2021-02-13T04:34:45.222695",
     "status": "completed"
    },
    "tags": []
   },
   "outputs": [],
   "source": [
    "final_df =final_df.loc[:,~final_df.columns.duplicated()]"
   ]
  },
  {
   "cell_type": "code",
   "execution_count": 51,
   "metadata": {
    "execution": {
     "iopub.execute_input": "2021-02-13T04:34:45.403625Z",
     "iopub.status.busy": "2021-02-13T04:34:45.403005Z",
     "iopub.status.idle": "2021-02-13T04:34:45.408405Z",
     "shell.execute_reply": "2021-02-13T04:34:45.407896Z"
    },
    "papermill": {
     "duration": 0.063573,
     "end_time": "2021-02-13T04:34:45.408553",
     "exception": false,
     "start_time": "2021-02-13T04:34:45.344980",
     "status": "completed"
    },
    "tags": []
   },
   "outputs": [
    {
     "data": {
      "text/plain": [
       "(2881, 175)"
      ]
     },
     "execution_count": 51,
     "metadata": {},
     "output_type": "execute_result"
    }
   ],
   "source": [
    "final_df.shape"
   ]
  },
  {
   "cell_type": "code",
   "execution_count": 52,
   "metadata": {
    "execution": {
     "iopub.execute_input": "2021-02-13T04:34:45.526093Z",
     "iopub.status.busy": "2021-02-13T04:34:45.525434Z",
     "iopub.status.idle": "2021-02-13T04:34:45.528811Z",
     "shell.execute_reply": "2021-02-13T04:34:45.528282Z"
    },
    "papermill": {
     "duration": 0.064777,
     "end_time": "2021-02-13T04:34:45.528964",
     "exception": false,
     "start_time": "2021-02-13T04:34:45.464187",
     "status": "completed"
    },
    "tags": []
   },
   "outputs": [],
   "source": [
    "df_Train=final_df.iloc[:1422,:]\n",
    "df_Test=final_df.iloc[1422:,:]"
   ]
  },
  {
   "cell_type": "code",
   "execution_count": 53,
   "metadata": {
    "execution": {
     "iopub.execute_input": "2021-02-13T04:34:45.646454Z",
     "iopub.status.busy": "2021-02-13T04:34:45.645824Z",
     "iopub.status.idle": "2021-02-13T04:34:45.648261Z",
     "shell.execute_reply": "2021-02-13T04:34:45.648785Z"
    },
    "papermill": {
     "duration": 0.062976,
     "end_time": "2021-02-13T04:34:45.648956",
     "exception": false,
     "start_time": "2021-02-13T04:34:45.585980",
     "status": "completed"
    },
    "tags": []
   },
   "outputs": [],
   "source": [
    "#df_Test.drop(['SalePrice'],axis=1,inplace=True)"
   ]
  },
  {
   "cell_type": "code",
   "execution_count": 54,
   "metadata": {
    "execution": {
     "iopub.execute_input": "2021-02-13T04:34:45.767612Z",
     "iopub.status.busy": "2021-02-13T04:34:45.766956Z",
     "iopub.status.idle": "2021-02-13T04:34:45.769823Z",
     "shell.execute_reply": "2021-02-13T04:34:45.770263Z"
    },
    "papermill": {
     "duration": 0.065387,
     "end_time": "2021-02-13T04:34:45.770449",
     "exception": false,
     "start_time": "2021-02-13T04:34:45.705062",
     "status": "completed"
    },
    "tags": []
   },
   "outputs": [],
   "source": [
    "X_train=df_Train.drop(['SalePrice'],axis=1)\n",
    "y_train=df_Train['SalePrice']"
   ]
  },
  {
   "cell_type": "code",
   "execution_count": 55,
   "metadata": {
    "execution": {
     "iopub.execute_input": "2021-02-13T04:34:45.886105Z",
     "iopub.status.busy": "2021-02-13T04:34:45.885428Z",
     "iopub.status.idle": "2021-02-13T04:34:46.314466Z",
     "shell.execute_reply": "2021-02-13T04:34:46.313896Z"
    },
    "papermill": {
     "duration": 0.487757,
     "end_time": "2021-02-13T04:34:46.314606",
     "exception": false,
     "start_time": "2021-02-13T04:34:45.826849",
     "status": "completed"
    },
    "tags": []
   },
   "outputs": [],
   "source": [
    "from sklearn.ensemble import RandomForestRegressor"
   ]
  },
  {
   "cell_type": "code",
   "execution_count": 56,
   "metadata": {
    "execution": {
     "iopub.execute_input": "2021-02-13T04:34:46.432943Z",
     "iopub.status.busy": "2021-02-13T04:34:46.432124Z",
     "iopub.status.idle": "2021-02-13T04:34:46.435082Z",
     "shell.execute_reply": "2021-02-13T04:34:46.434553Z"
    },
    "papermill": {
     "duration": 0.063657,
     "end_time": "2021-02-13T04:34:46.435232",
     "exception": false,
     "start_time": "2021-02-13T04:34:46.371575",
     "status": "completed"
    },
    "tags": []
   },
   "outputs": [],
   "source": [
    "regressor = RandomForestRegressor()"
   ]
  },
  {
   "cell_type": "code",
   "execution_count": 57,
   "metadata": {
    "execution": {
     "iopub.execute_input": "2021-02-13T04:34:46.557142Z",
     "iopub.status.busy": "2021-02-13T04:34:46.556479Z",
     "iopub.status.idle": "2021-02-13T04:34:49.233424Z",
     "shell.execute_reply": "2021-02-13T04:34:49.232735Z"
    },
    "papermill": {
     "duration": 2.741615,
     "end_time": "2021-02-13T04:34:49.233563",
     "exception": false,
     "start_time": "2021-02-13T04:34:46.491948",
     "status": "completed"
    },
    "tags": []
   },
   "outputs": [
    {
     "data": {
      "text/plain": [
       "RandomForestRegressor()"
      ]
     },
     "execution_count": 57,
     "metadata": {},
     "output_type": "execute_result"
    }
   ],
   "source": [
    "regressor.fit(X_train, y_train)"
   ]
  },
  {
   "cell_type": "code",
   "execution_count": 58,
   "metadata": {
    "execution": {
     "iopub.execute_input": "2021-02-13T04:34:49.354864Z",
     "iopub.status.busy": "2021-02-13T04:34:49.354214Z",
     "iopub.status.idle": "2021-02-13T04:34:49.382599Z",
     "shell.execute_reply": "2021-02-13T04:34:49.381920Z"
    },
    "papermill": {
     "duration": 0.092213,
     "end_time": "2021-02-13T04:34:49.382799",
     "exception": false,
     "start_time": "2021-02-13T04:34:49.290586",
     "status": "completed"
    },
    "tags": []
   },
   "outputs": [],
   "source": [
    "import pickle\n",
    "filename = 'finalized_model.pkl'\n",
    "pickle.dump(regressor, open(filename, 'wb'))"
   ]
  },
  {
   "cell_type": "code",
   "execution_count": 59,
   "metadata": {
    "execution": {
     "iopub.execute_input": "2021-02-13T04:34:49.508929Z",
     "iopub.status.busy": "2021-02-13T04:34:49.504553Z",
     "iopub.status.idle": "2021-02-13T04:34:49.550414Z",
     "shell.execute_reply": "2021-02-13T04:34:49.549729Z"
    },
    "papermill": {
     "duration": 0.109494,
     "end_time": "2021-02-13T04:34:49.550555",
     "exception": false,
     "start_time": "2021-02-13T04:34:49.441061",
     "status": "completed"
    },
    "tags": []
   },
   "outputs": [],
   "source": [
    "y_pred=regressor.predict(df_Test.drop(['SalePrice'],axis=1))"
   ]
  },
  {
   "cell_type": "code",
   "execution_count": 60,
   "metadata": {
    "execution": {
     "iopub.execute_input": "2021-02-13T04:34:49.671574Z",
     "iopub.status.busy": "2021-02-13T04:34:49.670603Z",
     "iopub.status.idle": "2021-02-13T04:34:49.676128Z",
     "shell.execute_reply": "2021-02-13T04:34:49.675547Z"
    },
    "papermill": {
     "duration": 0.068237,
     "end_time": "2021-02-13T04:34:49.676285",
     "exception": false,
     "start_time": "2021-02-13T04:34:49.608048",
     "status": "completed"
    },
    "tags": []
   },
   "outputs": [
    {
     "data": {
      "text/plain": [
       "array([127620.5 , 154783.5 , 184687.8 , ..., 159477.37, 115443.5 ,\n",
       "       234296.36])"
      ]
     },
     "execution_count": 60,
     "metadata": {},
     "output_type": "execute_result"
    }
   ],
   "source": [
    "y_pred"
   ]
  },
  {
   "cell_type": "code",
   "execution_count": 61,
   "metadata": {
    "execution": {
     "iopub.execute_input": "2021-02-13T04:34:49.804200Z",
     "iopub.status.busy": "2021-02-13T04:34:49.803543Z",
     "iopub.status.idle": "2021-02-13T04:34:49.826296Z",
     "shell.execute_reply": "2021-02-13T04:34:49.825611Z"
    },
    "papermill": {
     "duration": 0.086369,
     "end_time": "2021-02-13T04:34:49.826453",
     "exception": false,
     "start_time": "2021-02-13T04:34:49.740084",
     "status": "completed"
    },
    "tags": []
   },
   "outputs": [],
   "source": [
    "##Create Sample Submission file and Submit using random forest\n",
    "pred=pd.DataFrame(y_pred)\n",
    "sub_df=pd.read_csv('/kaggle/input/house-prices-advanced-regression-techniques/sample_submission.csv')\n",
    "datasets=pd.concat([sub_df['Id'],pred],axis=1)\n",
    "datasets.columns=['Id','SalePrice']\n",
    "datasets.to_csv('sample_submission.csv',index=False)"
   ]
  },
  {
   "cell_type": "code",
   "execution_count": 62,
   "metadata": {
    "execution": {
     "iopub.execute_input": "2021-02-13T04:34:49.952452Z",
     "iopub.status.busy": "2021-02-13T04:34:49.951788Z",
     "iopub.status.idle": "2021-02-13T04:34:49.954925Z",
     "shell.execute_reply": "2021-02-13T04:34:49.955445Z"
    },
    "papermill": {
     "duration": 0.07042,
     "end_time": "2021-02-13T04:34:49.955660",
     "exception": false,
     "start_time": "2021-02-13T04:34:49.885240",
     "status": "completed"
    },
    "tags": []
   },
   "outputs": [
    {
     "data": {
      "text/html": [
       "<div>\n",
       "<style scoped>\n",
       "    .dataframe tbody tr th:only-of-type {\n",
       "        vertical-align: middle;\n",
       "    }\n",
       "\n",
       "    .dataframe tbody tr th {\n",
       "        vertical-align: top;\n",
       "    }\n",
       "\n",
       "    .dataframe thead th {\n",
       "        text-align: right;\n",
       "    }\n",
       "</style>\n",
       "<table border=\"1\" class=\"dataframe\">\n",
       "  <thead>\n",
       "    <tr style=\"text-align: right;\">\n",
       "      <th></th>\n",
       "      <th>Id</th>\n",
       "      <th>SalePrice</th>\n",
       "    </tr>\n",
       "  </thead>\n",
       "  <tbody>\n",
       "    <tr>\n",
       "      <th>0</th>\n",
       "      <td>1461</td>\n",
       "      <td>169277.052498</td>\n",
       "    </tr>\n",
       "    <tr>\n",
       "      <th>1</th>\n",
       "      <td>1462</td>\n",
       "      <td>187758.393989</td>\n",
       "    </tr>\n",
       "    <tr>\n",
       "      <th>2</th>\n",
       "      <td>1463</td>\n",
       "      <td>183583.683570</td>\n",
       "    </tr>\n",
       "    <tr>\n",
       "      <th>3</th>\n",
       "      <td>1464</td>\n",
       "      <td>179317.477511</td>\n",
       "    </tr>\n",
       "    <tr>\n",
       "      <th>4</th>\n",
       "      <td>1465</td>\n",
       "      <td>150730.079977</td>\n",
       "    </tr>\n",
       "  </tbody>\n",
       "</table>\n",
       "</div>"
      ],
      "text/plain": [
       "     Id      SalePrice\n",
       "0  1461  169277.052498\n",
       "1  1462  187758.393989\n",
       "2  1463  183583.683570\n",
       "3  1464  179317.477511\n",
       "4  1465  150730.079977"
      ]
     },
     "execution_count": 62,
     "metadata": {},
     "output_type": "execute_result"
    }
   ],
   "source": [
    "sub_df.head()"
   ]
  },
  {
   "cell_type": "code",
   "execution_count": 63,
   "metadata": {
    "execution": {
     "iopub.execute_input": "2021-02-13T04:34:50.078285Z",
     "iopub.status.busy": "2021-02-13T04:34:50.077573Z",
     "iopub.status.idle": "2021-02-13T04:34:50.087033Z",
     "shell.execute_reply": "2021-02-13T04:34:50.087553Z"
    },
    "papermill": {
     "duration": 0.072958,
     "end_time": "2021-02-13T04:34:50.087744",
     "exception": false,
     "start_time": "2021-02-13T04:34:50.014786",
     "status": "completed"
    },
    "tags": []
   },
   "outputs": [
    {
     "data": {
      "text/html": [
       "<div>\n",
       "<style scoped>\n",
       "    .dataframe tbody tr th:only-of-type {\n",
       "        vertical-align: middle;\n",
       "    }\n",
       "\n",
       "    .dataframe tbody tr th {\n",
       "        vertical-align: top;\n",
       "    }\n",
       "\n",
       "    .dataframe thead th {\n",
       "        text-align: right;\n",
       "    }\n",
       "</style>\n",
       "<table border=\"1\" class=\"dataframe\">\n",
       "  <thead>\n",
       "    <tr style=\"text-align: right;\">\n",
       "      <th></th>\n",
       "      <th>Id</th>\n",
       "      <th>SalePrice</th>\n",
       "    </tr>\n",
       "  </thead>\n",
       "  <tbody>\n",
       "    <tr>\n",
       "      <th>0</th>\n",
       "      <td>1461</td>\n",
       "      <td>127620.50</td>\n",
       "    </tr>\n",
       "    <tr>\n",
       "      <th>1</th>\n",
       "      <td>1462</td>\n",
       "      <td>154783.50</td>\n",
       "    </tr>\n",
       "    <tr>\n",
       "      <th>2</th>\n",
       "      <td>1463</td>\n",
       "      <td>184687.80</td>\n",
       "    </tr>\n",
       "    <tr>\n",
       "      <th>3</th>\n",
       "      <td>1464</td>\n",
       "      <td>179948.32</td>\n",
       "    </tr>\n",
       "    <tr>\n",
       "      <th>4</th>\n",
       "      <td>1465</td>\n",
       "      <td>203828.79</td>\n",
       "    </tr>\n",
       "  </tbody>\n",
       "</table>\n",
       "</div>"
      ],
      "text/plain": [
       "     Id  SalePrice\n",
       "0  1461  127620.50\n",
       "1  1462  154783.50\n",
       "2  1463  184687.80\n",
       "3  1464  179948.32\n",
       "4  1465  203828.79"
      ]
     },
     "execution_count": 63,
     "metadata": {},
     "output_type": "execute_result"
    }
   ],
   "source": [
    "datasets.head()"
   ]
  },
  {
   "cell_type": "code",
   "execution_count": null,
   "metadata": {
    "papermill": {
     "duration": 0.059009,
     "end_time": "2021-02-13T04:34:50.205987",
     "exception": false,
     "start_time": "2021-02-13T04:34:50.146978",
     "status": "completed"
    },
    "tags": []
   },
   "outputs": [],
   "source": []
  }
 ],
 "metadata": {
  "kernelspec": {
   "display_name": "Python 3",
   "language": "python",
   "name": "python3"
  },
  "language_info": {
   "codemirror_mode": {
    "name": "ipython",
    "version": 3
   },
   "file_extension": ".py",
   "mimetype": "text/x-python",
   "name": "python",
   "nbconvert_exporter": "python",
   "pygments_lexer": "ipython3",
   "version": "3.7.4"
  },
  "papermill": {
   "default_parameters": {},
   "duration": 20.635461,
   "end_time": "2021-02-13T04:34:50.976667",
   "environment_variables": {},
   "exception": null,
   "input_path": "__notebook__.ipynb",
   "output_path": "__notebook__.ipynb",
   "parameters": {},
   "start_time": "2021-02-13T04:34:30.341206",
   "version": "2.2.2"
  }
 },
 "nbformat": 4,
 "nbformat_minor": 4
}
